{
 "cells": [
  {
   "attachments": {},
   "cell_type": "markdown",
   "metadata": {},
   "source": [
    "Punto 1:\n",
    "Desarrollar un algoritmo que calcule el promedio de un arreglo de reales."
   ]
  },
  {
   "cell_type": "code",
   "execution_count": 3,
   "metadata": {},
   "outputs": [
    {
     "name": "stdout",
     "output_type": "stream",
     "text": [
      "Este es el promedio de arreglos: 10.49077777777778\n"
     ]
    }
   ],
   "source": [
    "#Inicializamos el arreglo(lista)\n",
    "arreglo= [3.5, 6.7, 1.23, 2.34, 4.567, 34.5, 34.2, 3.98, 3.4]\n",
    "#inicializamos la variable para poder sumar los valores de la lista\n",
    "suma= 0\n",
    "\n",
    "for digito in arreglo: # Usamos ciclo for para que todos los valores de la lista se sumen\n",
    "    suma += digito\n",
    "#Inicializamos la variable promedio usando la formula que es la suma de todos lo variables dividida en la cantidad de variables\n",
    "Promedio= suma / len(arreglo) # usamos len para que nos de la cantidad de valores que hay en la lista arreglos\n",
    "\n",
    "print(\"Este es el promedio de arreglos:\", Promedio)"
   ]
  },
  {
   "attachments": {},
   "cell_type": "markdown",
   "metadata": {},
   "source": [
    "Punto 2:\n"
   ]
  },
  {
   "cell_type": "code",
   "execution_count": 6,
   "metadata": {},
   "outputs": [
    {
     "name": "stdout",
     "output_type": "stream",
     "text": [
      "Este es sun producto punto de sus listas: 35.06\n"
     ]
    }
   ],
   "source": [
    "def productoPunto(lista1, lista2):# tomamos dos listas como argumentos\n",
    "    productoPunto= 0\n",
    "    for i in range(len(lista1)): # usamos un for para que pase por todos los digitos de las listas y usamos como refencia la lista 1 ya que deben tener la misma cantidad de digitos \n",
    "      productoPunto += lista1[i]*lista2[i]\n",
    "    return productoPunto \n",
    "n= [1.2, 3.6, 4.7, 2.7]\n",
    "m= [4.6, 2.4, 1,6, 6.9]\n",
    "print(\"Este es sun producto punto de sus listas:\", productoPunto(n,m))"
   ]
  },
  {
   "attachments": {},
   "cell_type": "markdown",
   "metadata": {},
   "source": [
    "Punto 3:"
   ]
  },
  {
   "cell_type": "code",
   "execution_count": 8,
   "metadata": {},
   "outputs": [
    {
     "name": "stdout",
     "output_type": "stream",
     "text": [
      "este es el arreglo original: [3, 0, 6, 0, 4, 0, 1, 0, 3, 5, 0, 76]\n",
      "\n",
      "Este es el arreglo organizado: [3, 6, 4, 1, 3, 5, 76, 0, 0, 0, 0, 0]\n"
     ]
    }
   ],
   "source": [
    "#arreglo que deja todo los ceros a lo ultimo\n",
    "def cero_en_arreglo(arreglo: list):\n",
    "    contadordeceros= 0 #inicializamos el contador en 0\n",
    "    for i in range(len(arreglo)): #creamos el ciclo for para que pase a través de todo el arreglo\n",
    "        if arreglo[i]!= 0: #creamos la condición donde si el elemento no es 0\n",
    "            arreglo[i - contadordeceros] = arreglo[i]# cambiamos la pocision de elemento que no es 0 hacia la izquierda\n",
    "        else:\n",
    "            contadordeceros +=1 #se tiene que subir uno el contador de 0\n",
    "    for i in range(contadordeceros):\n",
    "        arreglo[len(arreglo)-i-1] = 0 #arr[len(arr)-i-1] con esta formula se accede a las ultimas pocisiones lo que ayudara a que el 0 se acomode en las ultimas pocisiones\n",
    "    return arreglo\n",
    "\n",
    "arreglo= [3,0,6,0,4,0,1,0,3,5,0,76] # damos el arreglo\n",
    "print(\"este es el arreglo original:\", arreglo)\n",
    "print()\n",
    "arreglo= cero_en_arreglo(arreglo) #limpiamos y decimos cual es el nuevo arreglo\n",
    "print(\"Este es el arreglo organizado:\", arreglo)\n",
    "\n",
    "                 \n",
    "        "
   ]
  }
 ],
 "metadata": {
  "kernelspec": {
   "display_name": "Python 3",
   "language": "python",
   "name": "python3"
  },
  "language_info": {
   "codemirror_mode": {
    "name": "ipython",
    "version": 3
   },
   "file_extension": ".py",
   "mimetype": "text/x-python",
   "name": "python",
   "nbconvert_exporter": "python",
   "pygments_lexer": "ipython3",
   "version": "3.11.3"
  },
  "orig_nbformat": 4
 },
 "nbformat": 4,
 "nbformat_minor": 2
}
